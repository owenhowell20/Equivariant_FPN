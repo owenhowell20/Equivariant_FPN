{
 "cells": [
  {
   "cell_type": "code",
   "execution_count": 1,
   "id": "96098382",
   "metadata": {},
   "outputs": [],
   "source": [
    "import torch\n",
    "import fpn\n",
    "import eqv_fpn"
   ]
  },
  {
   "cell_type": "code",
   "execution_count": null,
   "id": "353e56a0",
   "metadata": {},
   "outputs": [],
   "source": []
  },
  {
   "cell_type": "code",
   "execution_count": 2,
   "id": "8f9e61bc",
   "metadata": {},
   "outputs": [
    {
     "name": "stderr",
     "output_type": "stream",
     "text": [
      "/usr/local/lib/python3.11/site-packages/e2cnn/nn/modules/r2_conv/basisexpansion_singleblock.py:80: UserWarning: indexing with dtype torch.uint8 is now deprecated, please use a dtype torch.bool instead. (Triggered internally at /Users/runner/work/pytorch/pytorch/pytorch/aten/src/ATen/native/IndexingUtils.h:28.)\n",
      "  full_mask[mask] = norms.to(torch.uint8)\n"
     ]
    },
    {
     "name": "stdout",
     "output_type": "stream",
     "text": [
      "strides: 1 [1, 1]\n",
      "1\n",
      "1\n",
      "strides: 2 [2, 1]\n",
      "2\n",
      "1\n",
      "strides: 2 [2, 1]\n",
      "2\n",
      "1\n",
      "strides: 2 [2, 1]\n",
      "2\n",
      "1\n"
     ]
    }
   ],
   "source": [
    "so2_disc = 64\n",
    "g = eqv_fpn.eqv_FPN101( so2_disc )\n"
   ]
  },
  {
   "cell_type": "code",
   "execution_count": 3,
   "id": "bd067bbd",
   "metadata": {},
   "outputs": [],
   "source": [
    "f = fpn.FPN101()"
   ]
  },
  {
   "cell_type": "code",
   "execution_count": 8,
   "id": "990ae5ae",
   "metadata": {},
   "outputs": [
    {
     "name": "stdout",
     "output_type": "stream",
     "text": [
      "Equivarient: 445034\n",
      "Non-Equivarient: 16700480\n"
     ]
    }
   ],
   "source": [
    "total_params = sum(p.numel() for p in g.parameters())\n",
    "print(\"Equivarient:\", total_params)\n",
    "\n",
    "total_params = sum(p.numel() for p in f.parameters())\n",
    "print(\"Non-Equivarient:\",total_params)"
   ]
  },
  {
   "cell_type": "code",
   "execution_count": 7,
   "id": "7657abf6",
   "metadata": {
    "scrolled": true
   },
   "outputs": [
    {
     "name": "stdout",
     "output_type": "stream",
     "text": [
      "eqv_FPN(\n",
      "  (conv_first): R2Conv([64-Rotations: {irrep_0, irrep_0, irrep_0}], [64-Rotations: {regular}], kernel_size=7, stride=2, padding=3, bias=False)\n",
      "  (bn_first): GNormBatchNorm()\n",
      "  (relu_first): ReLU(inplace=False, type=[64-Rotations: {regular}])\n",
      "  (max_pool2d_layer): NormMaxPool()\n",
      "  (layer1): Sequential(\n",
      "    (0): Equ_Bottleneck(\n",
      "      (conv1): R2Conv([64-Rotations: {regular}], [64-Rotations: {regular}], kernel_size=1, stride=1, bias=False)\n",
      "      (bn1): GNormBatchNorm()\n",
      "      (conv2): R2Conv([64-Rotations: {regular}], [64-Rotations: {regular}], kernel_size=3, stride=1, padding=1, bias=False)\n",
      "      (bn2): GNormBatchNorm()\n",
      "      (relu_hidden): ReLU(inplace=False, type=[64-Rotations: {regular}])\n",
      "      (conv3): R2Conv([64-Rotations: {regular}], [64-Rotations: {regular, regular, regular, regular}], kernel_size=1, stride=1, bias=False)\n",
      "      (bn3): GNormBatchNorm()\n",
      "      (relu_out): ReLU(inplace=False, type=[64-Rotations: {regular, regular, regular, regular}])\n",
      "      (shortcut_conv): R2Conv([64-Rotations: {regular}], [64-Rotations: {regular, regular, regular, regular}], kernel_size=3, stride=1, padding=1, bias=False)\n",
      "      (shortcut_batch): GNormBatchNorm()\n",
      "    )\n",
      "    (1): Equ_Bottleneck(\n",
      "      (conv1): R2Conv([64-Rotations: {regular, regular, regular, regular}], [64-Rotations: {regular}], kernel_size=1, stride=1, bias=False)\n",
      "      (bn1): GNormBatchNorm()\n",
      "      (conv2): R2Conv([64-Rotations: {regular}], [64-Rotations: {regular}], kernel_size=3, stride=1, padding=1, bias=False)\n",
      "      (bn2): GNormBatchNorm()\n",
      "      (relu_hidden): ReLU(inplace=False, type=[64-Rotations: {regular}])\n",
      "      (conv3): R2Conv([64-Rotations: {regular}], [64-Rotations: {regular, regular, regular, regular}], kernel_size=1, stride=1, bias=False)\n",
      "      (bn3): GNormBatchNorm()\n",
      "      (relu_out): ReLU(inplace=False, type=[64-Rotations: {regular, regular, regular, regular}])\n",
      "      (shortcut_conv): IdentityModule()\n",
      "    )\n",
      "  )\n",
      "  (layer2): Sequential(\n",
      "    (0): Equ_Bottleneck(\n",
      "      (conv1): R2Conv([64-Rotations: {regular, regular, regular, regular}], [64-Rotations: {regular, regular}], kernel_size=1, stride=1, bias=False)\n",
      "      (bn1): GNormBatchNorm()\n",
      "      (conv2): R2Conv([64-Rotations: {regular, regular}], [64-Rotations: {regular, regular}], kernel_size=3, stride=2, padding=1, bias=False)\n",
      "      (bn2): GNormBatchNorm()\n",
      "      (relu_hidden): ReLU(inplace=False, type=[64-Rotations: {regular, regular}])\n",
      "      (conv3): R2Conv([64-Rotations: {regular, regular}], [64-Rotations: {regular, regular, regular, regular, regular, regular, regular, regular}], kernel_size=1, stride=1, bias=False)\n",
      "      (bn3): GNormBatchNorm()\n",
      "      (relu_out): ReLU(inplace=False, type=[64-Rotations: {regular, regular, regular, regular, regular, regular, regular, regular}])\n",
      "      (shortcut_conv): R2Conv([64-Rotations: {regular, regular, regular, regular}], [64-Rotations: {regular, regular, regular, regular, regular, regular, regular, regular}], kernel_size=3, stride=2, padding=1, bias=False)\n",
      "      (shortcut_batch): GNormBatchNorm()\n",
      "    )\n",
      "    (1): Equ_Bottleneck(\n",
      "      (conv1): R2Conv([64-Rotations: {regular, regular, regular, regular, regular, regular, regular, regular}], [64-Rotations: {regular, regular}], kernel_size=1, stride=1, bias=False)\n",
      "      (bn1): GNormBatchNorm()\n",
      "      (conv2): R2Conv([64-Rotations: {regular, regular}], [64-Rotations: {regular, regular}], kernel_size=3, stride=1, padding=1, bias=False)\n",
      "      (bn2): GNormBatchNorm()\n",
      "      (relu_hidden): ReLU(inplace=False, type=[64-Rotations: {regular, regular}])\n",
      "      (conv3): R2Conv([64-Rotations: {regular, regular}], [64-Rotations: {regular, regular, regular, regular, regular, regular, regular, regular}], kernel_size=1, stride=1, bias=False)\n",
      "      (bn3): GNormBatchNorm()\n",
      "      (relu_out): ReLU(inplace=False, type=[64-Rotations: {regular, regular, regular, regular, regular, regular, regular, regular}])\n",
      "      (shortcut_conv): IdentityModule()\n",
      "    )\n",
      "  )\n",
      "  (layer3): Sequential(\n",
      "    (0): Equ_Bottleneck(\n",
      "      (conv1): R2Conv([64-Rotations: {regular, regular, regular, regular, regular, regular, regular, regular}], [64-Rotations: {regular, regular, regular, regular}], kernel_size=1, stride=1, bias=False)\n",
      "      (bn1): GNormBatchNorm()\n",
      "      (conv2): R2Conv([64-Rotations: {regular, regular, regular, regular}], [64-Rotations: {regular, regular, regular, regular}], kernel_size=3, stride=2, padding=1, bias=False)\n",
      "      (bn2): GNormBatchNorm()\n",
      "      (relu_hidden): ReLU(inplace=False, type=[64-Rotations: {regular, regular, regular, regular}])\n",
      "      (conv3): R2Conv([64-Rotations: {regular, regular, regular, regular}], [64-Rotations: {regular, regular, regular, regular, regular, regular, regular, regular, regular, regular, regular, regular, regular, regular, regular, regular}], kernel_size=1, stride=1, bias=False)\n",
      "      (bn3): GNormBatchNorm()\n",
      "      (relu_out): ReLU(inplace=False, type=[64-Rotations: {regular, regular, regular, regular, regular, regular, regular, regular, regular, regular, regular, regular, regular, regular, regular, regular}])\n",
      "      (shortcut_conv): R2Conv([64-Rotations: {regular, regular, regular, regular, regular, regular, regular, regular}], [64-Rotations: {regular, regular, regular, regular, regular, regular, regular, regular, regular, regular, regular, regular, regular, regular, regular, regular}], kernel_size=3, stride=2, padding=1, bias=False)\n",
      "      (shortcut_batch): GNormBatchNorm()\n",
      "    )\n",
      "    (1): Equ_Bottleneck(\n",
      "      (conv1): R2Conv([64-Rotations: {regular, regular, regular, regular, regular, regular, regular, regular, regular, regular, regular, regular, regular, regular, regular, regular}], [64-Rotations: {regular, regular, regular, regular}], kernel_size=1, stride=1, bias=False)\n",
      "      (bn1): GNormBatchNorm()\n",
      "      (conv2): R2Conv([64-Rotations: {regular, regular, regular, regular}], [64-Rotations: {regular, regular, regular, regular}], kernel_size=3, stride=1, padding=1, bias=False)\n",
      "      (bn2): GNormBatchNorm()\n",
      "      (relu_hidden): ReLU(inplace=False, type=[64-Rotations: {regular, regular, regular, regular}])\n",
      "      (conv3): R2Conv([64-Rotations: {regular, regular, regular, regular}], [64-Rotations: {regular, regular, regular, regular, regular, regular, regular, regular, regular, regular, regular, regular, regular, regular, regular, regular}], kernel_size=1, stride=1, bias=False)\n",
      "      (bn3): GNormBatchNorm()\n",
      "      (relu_out): ReLU(inplace=False, type=[64-Rotations: {regular, regular, regular, regular, regular, regular, regular, regular, regular, regular, regular, regular, regular, regular, regular, regular}])\n",
      "      (shortcut_conv): IdentityModule()\n",
      "    )\n",
      "  )\n",
      "  (layer4): Sequential(\n",
      "    (0): Equ_Bottleneck(\n",
      "      (conv1): R2Conv([64-Rotations: {regular, regular, regular, regular, regular, regular, regular, regular, regular, regular, regular, regular, regular, regular, regular, regular}], [64-Rotations: {regular, regular, regular, regular, regular, regular, regular, regular}], kernel_size=1, stride=1, bias=False)\n",
      "      (bn1): GNormBatchNorm()\n",
      "      (conv2): R2Conv([64-Rotations: {regular, regular, regular, regular, regular, regular, regular, regular}], [64-Rotations: {regular, regular, regular, regular, regular, regular, regular, regular}], kernel_size=3, stride=2, padding=1, bias=False)\n",
      "      (bn2): GNormBatchNorm()\n",
      "      (relu_hidden): ReLU(inplace=False, type=[64-Rotations: {regular, regular, regular, regular, regular, regular, regular, regular}])\n",
      "      (conv3): R2Conv([64-Rotations: {regular, regular, regular, regular, regular, regular, regular, regular}], [64-Rotations: {regular, regular, regular, regular, regular, regular, regular, regular, regular, regular, regular, regular, regular, regular, regular, regular, regular, regular, regular, regular, regular, regular, regular, regular, regular, regular, regular, regular, regular, regular, regular, regular}], kernel_size=1, stride=1, bias=False)\n",
      "      (bn3): GNormBatchNorm()\n",
      "      (relu_out): ReLU(inplace=False, type=[64-Rotations: {regular, regular, regular, regular, regular, regular, regular, regular, regular, regular, regular, regular, regular, regular, regular, regular, regular, regular, regular, regular, regular, regular, regular, regular, regular, regular, regular, regular, regular, regular, regular, regular}])\n",
      "      (shortcut_conv): R2Conv([64-Rotations: {regular, regular, regular, regular, regular, regular, regular, regular, regular, regular, regular, regular, regular, regular, regular, regular}], [64-Rotations: {regular, regular, regular, regular, regular, regular, regular, regular, regular, regular, regular, regular, regular, regular, regular, regular, regular, regular, regular, regular, regular, regular, regular, regular, regular, regular, regular, regular, regular, regular, regular, regular}], kernel_size=3, stride=2, padding=1, bias=False)\n",
      "      (shortcut_batch): GNormBatchNorm()\n",
      "    )\n",
      "    (1): Equ_Bottleneck(\n",
      "      (conv1): R2Conv([64-Rotations: {regular, regular, regular, regular, regular, regular, regular, regular, regular, regular, regular, regular, regular, regular, regular, regular, regular, regular, regular, regular, regular, regular, regular, regular, regular, regular, regular, regular, regular, regular, regular, regular}], [64-Rotations: {regular, regular, regular, regular, regular, regular, regular, regular}], kernel_size=1, stride=1, bias=False)\n",
      "      (bn1): GNormBatchNorm()\n",
      "      (conv2): R2Conv([64-Rotations: {regular, regular, regular, regular, regular, regular, regular, regular}], [64-Rotations: {regular, regular, regular, regular, regular, regular, regular, regular}], kernel_size=3, stride=1, padding=1, bias=False)\n",
      "      (bn2): GNormBatchNorm()\n",
      "      (relu_hidden): ReLU(inplace=False, type=[64-Rotations: {regular, regular, regular, regular, regular, regular, regular, regular}])\n",
      "      (conv3): R2Conv([64-Rotations: {regular, regular, regular, regular, regular, regular, regular, regular}], [64-Rotations: {regular, regular, regular, regular, regular, regular, regular, regular, regular, regular, regular, regular, regular, regular, regular, regular, regular, regular, regular, regular, regular, regular, regular, regular, regular, regular, regular, regular, regular, regular, regular, regular}], kernel_size=1, stride=1, bias=False)\n",
      "      (bn3): GNormBatchNorm()\n",
      "      (relu_out): ReLU(inplace=False, type=[64-Rotations: {regular, regular, regular, regular, regular, regular, regular, regular, regular, regular, regular, regular, regular, regular, regular, regular, regular, regular, regular, regular, regular, regular, regular, regular, regular, regular, regular, regular, regular, regular, regular, regular}])\n",
      "      (shortcut_conv): IdentityModule()\n",
      "    )\n",
      "  )\n",
      "  (toplayer): R2Conv([64-Rotations: {regular, regular, regular, regular, regular, regular, regular, regular, regular, regular, regular, regular, regular, regular, regular, regular, regular, regular, regular, regular, regular, regular, regular, regular, regular, regular, regular, regular, regular, regular, regular, regular}], [64-Rotations: {regular, regular, regular, regular}], kernel_size=1, stride=1)\n",
      "  (conv1): R2Conv([64-Rotations: {regular, regular, regular, regular}], [64-Rotations: {regular, regular, regular, regular}], kernel_size=3, stride=1, padding=1)\n",
      "  (conv2): R2Conv([64-Rotations: {regular, regular, regular, regular}], [64-Rotations: {regular, regular, regular, regular}], kernel_size=3, stride=1, padding=1)\n",
      "  (conv3): R2Conv([64-Rotations: {regular, regular, regular, regular}], [64-Rotations: {regular, regular, regular, regular}], kernel_size=3, stride=1, padding=1)\n",
      "  (latlayer1): R2Conv([64-Rotations: {regular, regular, regular, regular, regular, regular, regular, regular, regular, regular, regular, regular, regular, regular, regular, regular}], [64-Rotations: {regular, regular, regular, regular}], kernel_size=1, stride=1, padding=1)\n",
      "  (latlayer2): R2Conv([64-Rotations: {regular, regular, regular, regular, regular, regular, regular, regular}], [64-Rotations: {regular, regular, regular, regular}], kernel_size=1, stride=1, padding=1)\n",
      "  (latlayer3): R2Conv([64-Rotations: {regular, regular, regular, regular}], [64-Rotations: {regular, regular, regular, regular}], kernel_size=1, stride=1, padding=1)\n",
      ")\n",
      "c1: torch.Size([10, 64, 64, 64])\n"
     ]
    },
    {
     "name": "stdout",
     "output_type": "stream",
     "text": [
      "c2: torch.Size([10, 256, 64, 64])\n",
      "start upsampling\n",
      "torch.Size([10, 256, 8, 8]) torch.Size([10, 256, 18, 18])\n",
      "start upsampling\n",
      "torch.Size([10, 256, 18, 18]) torch.Size([10, 256, 34, 34])\n",
      "start upsampling\n",
      "torch.Size([10, 256, 34, 34]) torch.Size([10, 256, 66, 66])\n"
     ]
    }
   ],
   "source": [
    "### random input\n",
    "x = torch.rand( 10 , 3 , 256 , 256 )\n",
    "\n",
    "### run\n",
    "y = g(x)\n"
   ]
  },
  {
   "cell_type": "code",
   "execution_count": 6,
   "id": "63e2c510",
   "metadata": {},
   "outputs": [
    {
     "ename": "NameError",
     "evalue": "name 'y' is not defined",
     "output_type": "error",
     "traceback": [
      "\u001b[0;31m---------------------------------------------------------------------------\u001b[0m",
      "\u001b[0;31mNameError\u001b[0m                                 Traceback (most recent call last)",
      "Cell \u001b[0;32mIn[6], line 1\u001b[0m\n\u001b[0;32m----> 1\u001b[0m \u001b[38;5;28mprint\u001b[39m(\u001b[43my\u001b[49m[\u001b[38;5;241m0\u001b[39m]\u001b[38;5;241m.\u001b[39mshape)\n\u001b[1;32m      2\u001b[0m \u001b[38;5;28mprint\u001b[39m(y[\u001b[38;5;241m1\u001b[39m]\u001b[38;5;241m.\u001b[39mshape)\n\u001b[1;32m      3\u001b[0m \u001b[38;5;28mprint\u001b[39m(y[\u001b[38;5;241m2\u001b[39m]\u001b[38;5;241m.\u001b[39mshape)\n",
      "\u001b[0;31mNameError\u001b[0m: name 'y' is not defined"
     ]
    }
   ],
   "source": [
    "print(y[0].shape)\n",
    "print(y[1].shape)\n",
    "print(y[2].shape)\n",
    "print(y[3].shape)\n",
    "\n",
    "\n"
   ]
  },
  {
   "cell_type": "code",
   "execution_count": null,
   "id": "5a6a3c81",
   "metadata": {},
   "outputs": [],
   "source": []
  },
  {
   "cell_type": "code",
   "execution_count": null,
   "id": "9328e6c4",
   "metadata": {},
   "outputs": [],
   "source": [
    "f = fpn.FPN101()"
   ]
  },
  {
   "cell_type": "code",
   "execution_count": null,
   "id": "a14e5973",
   "metadata": {},
   "outputs": [],
   "source": [
    "print(f)"
   ]
  },
  {
   "cell_type": "code",
   "execution_count": null,
   "id": "0efeede4",
   "metadata": {},
   "outputs": [],
   "source": [
    "x = torch.rand( [10, 3, 256, 256] )\n",
    "\n",
    "\n"
   ]
  },
  {
   "cell_type": "code",
   "execution_count": null,
   "id": "c92d498d",
   "metadata": {},
   "outputs": [],
   "source": [
    "print(y[0].shape)\n",
    "print(y[1].shape)\n",
    "print(y[2].shape)\n",
    "print(y[3].shape)"
   ]
  },
  {
   "cell_type": "code",
   "execution_count": null,
   "id": "0d754246",
   "metadata": {},
   "outputs": [],
   "source": []
  }
 ],
 "metadata": {
  "kernelspec": {
   "display_name": "Python 3 (ipykernel)",
   "language": "python",
   "name": "python3"
  },
  "language_info": {
   "codemirror_mode": {
    "name": "ipython",
    "version": 3
   },
   "file_extension": ".py",
   "mimetype": "text/x-python",
   "name": "python",
   "nbconvert_exporter": "python",
   "pygments_lexer": "ipython3",
   "version": "3.11.3"
  }
 },
 "nbformat": 4,
 "nbformat_minor": 5
}
